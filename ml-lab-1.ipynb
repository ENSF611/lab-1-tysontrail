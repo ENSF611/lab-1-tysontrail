{
 "cells": [
  {
   "cell_type": "code",
   "execution_count": null,
   "id": "9f150375-adf9-4f97-bb8d-b9350cc9bd06",
   "metadata": {},
   "outputs": [],
   "source": [
    "\"authors\": [{\"name\": \"Tyson Trail\"}]"
   ]
  }
 ],
 "metadata": {
  "kernelspec": {
   "display_name": "Python 3 (ipykernel)",
   "language": "python",
   "name": "python3"
  },
  "language_info": {
   "codemirror_mode": {
    "name": "ipython",
    "version": 3
   },
   "file_extension": ".py",
   "mimetype": "text/x-python",
   "name": "python",
   "nbconvert_exporter": "python",
   "pygments_lexer": "ipython3",
   "version": "3.9.13"
  }
 },
 "nbformat": 4,
 "nbformat_minor": 5
}
